{
 "cells": [
  {
   "cell_type": "code",
   "execution_count": null,
   "metadata": {},
   "outputs": [],
   "source": [
    "import json\n",
    "import os\n",
    "\n",
    "# Check if the file exists, if not, create an empty JSONL file\n",
    "if not os.path.exists('output.jsonl'):\n",
    "    with open('output.jsonl', 'w') as file:\n",
    "        json.dump({}, file)\n",
    "    print(\"Created empty output.jsonl file\")\n",
    "\n",
    "# Now you can proceed with writing to the file\n",
    "with open('output.jsonl', 'r+') as file:\n",
    "    # Read existing content (if any)\n",
    "    try:\n",
    "        data = json.load(file)\n",
    "    except json.JSONDecodeError:\n",
    "        data = {}\n",
    "\n",
    "    # Add or update data\n",
    "    data['Prompt'] = 'Your prompt here'\n",
    "    data['Ref_Answer'] = 'Your reference answer here'\n",
    "\n",
    "    # Write updated data back to the file\n",
    "    file.seek(0)\n",
    "    json.dump(data, file)\n",
    "    file.truncate()\n",
    "ca\n",
    "print(\"JSONL file updated successfully.\")\n"
   ]
  },
  {
   "cell_type": "code",
   "execution_count": null,
   "metadata": {},
   "outputs": [],
   "source": [
    "import json\n",
    "\n",
    "# Open the file in append mode\n",
    "with open('output.jsonl', 'a') as file:\n",
    "    # Initial data\n",
    "    data = {\n",
    "        'Prompt': 'Your prompt here',\n",
    "        'Ref_Answer': 'Your reference answer here'\n",
    "    }\n",
    "    \n",
    "    # Write initial data\n",
    "    file.write(json.dumps(data) + '\\n')\n",
    "    file.flush()  # Ensure data is written to disk\n",
    "    \n",
    "    # Add Answer1 and SAE_Activations1\n",
    "    data['Answer1'] = 'Initial answer'\n",
    "    data['SAE_Activations1'] = 'Initial activations'\n",
    "    \n",
    "    # Overwrite the line\n",
    "    file.seek(0).\n",
    "    file.write(json.dumps(data) + '\\n')\n",
    "    file.flush()\n",
    "    \n",
    "    # Loop for i iterations\n",
    "    for i in range(2, 6):  # Adjust range as needed\n",
    "        # Simulate model parameter changes and new results\n",
    "        data[f'Answer{i}'] = f'Answer for iteration {i}'\n",
    "        data[f'SAE_Activations{i}'] = f'Activations for iteration {i}'\n",
    "        \n",
    "        # Overwrite the line again\n",
    "        file.seek(0)\n",
    "        file.write(json.dumps(data) + '\\n')\n",
    "        file.flush()\n",
    "\n",
    "print(\"JSONL file updated successfully.\")\n"
   ]
  }
 ],
 "metadata": {
  "language_info": {
   "name": "python"
  }
 },
 "nbformat": 4,
 "nbformat_minor": 2
}
