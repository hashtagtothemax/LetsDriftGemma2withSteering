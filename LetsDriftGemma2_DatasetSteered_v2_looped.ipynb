{
 "cells": [
  {
   "cell_type": "markdown",
   "metadata": {},
   "source": [
    "# WHAT'S HERE & NEXT TODO\n",
    "\n",
    "Try to read out the full set of generation logits. All the logits, at the end of every forward pass, in the layer that the SAE is hooked to. instead of just the last forward pass.\n",
    "\n",
    "- DONE: Implement with Dataset - hotpot QA and USMLE\n",
    "- DONE: Play around with Temperature, Penalty, % above max activation coefficient. 240 was way above. But as described in the Streamlit tutorial: \n",
    "> Note that we can choose the value of steering_coefficient based on the maximum activation of the latent we're steering on (it's usually wise to choose quite close to the max activation, but not so far above that you steer the model far out of distribution - however this varies from latent to latent, e.g. in the case of this particular latent we'll find it still produces coherent output quite far above the max activation value). If we didn't have neuronpedia then we couldn't do this, and we'd be better off measuring the max activation over some suitably large dataset to guide what value to choose for our steering coefficient.\n",
    "\n",
    "DONE: 3 different steering latents (minimum)\n",
    "DONE: Maybe 100 Questions.\n",
    "FILE EVAL_steered_jsonl.ipynb: --> Evaluation metrics ! \n"
   ]
  },
  {
   "cell_type": "markdown",
   "metadata": {},
   "source": [
    "## ToDo's for V2\n",
    "(above stuff was for V1)\n",
    "This stuff is to be implemented in V2.1 V2 was working well for single debug runs, so keep for reference -- V2.1 will contain the loop and all necessary improvements for a full experiment. \n",
    "\n",
    "1. Change output. Since it's a lot more data, makes more sense to have a folder of output files for each run. i.e a folder 'V2_0to60Hotpot_pirate'. Then for each answer have a jsonL file for metadata and then one for each prompt's answers (APPEND manual evaluation), and then one for each answer's (unsteered, steered1, steered2) logits. If needed, these can then later be converted and written to another JSONL of format SAE_act_unsteered, steered_1, etc.\n",
    "2. First evaluate right wrong, only consider right unsteered answers for further eval\n",
    "3. Do it with the Hotpot but also the USMLE prompt set.\n",
    "\n",
    "Statistical Eval:\n",
    "\n",
    "4. Same as last time, different mechanisms.\n",
    "    \n",
    "    4a. However, you could try and evaluate top and 'second quartile top' latents layer for layer, or across all layers. You could also try to ignore the layer in which the steering takes place. \n",
    "    4b. You could do the same with the logits, instead of SAE-dictionary latents.\n",
    "5. Have a closer look at the logits/latents that activate for the token that contains the condensed answer of the USMLE answers (i.e. \"(B)\" or \"(A)\") and compare latents between steered and unsteered. \n",
    "6. Clean up the forward pass top latents bar graphs (already in this ipynb, but move them to another eval script that reads from the jsonl files)\n",
    "\n",
    "    Idea: make it a scatter graph. Showing the activation strength of the top latents of each forward pass in one go. (all the points for each forward pass should be quite close together)\n",
    "    **Show it for each hookpoint layer. Currently only showing the first layer in V2 script.**\n",
    "\n",
    "\n",
    "7. If at all promising, repeat with non-Instruction trained 9b model, or even try another one like Llama.\n",
    "\n",
    "7. Use an LLM to change the input? i.e make it use slang. Make it ask the Q in a different way, using yet another LLM. \n",
    "\n",
    "8. The same, but with 'random'? or better non-random? ablation (set neurons to 0)"
   ]
  },
  {
   "cell_type": "markdown",
   "metadata": {},
   "source": [
    "# Setup\n",
    "Conda Env == lets_drift_env_V1 \n",
    "(Which is a clone of arena_env1_1_1c)"
   ]
  },
  {
   "cell_type": "code",
   "execution_count": 1,
   "metadata": {},
   "outputs": [
    {
     "data": {
      "application/vnd.jupyter.widget-view+json": {
       "model_id": "b40237253b1d42199bcb7ae9f2020a85",
       "version_major": 2,
       "version_minor": 0
      },
      "text/plain": [
       "VBox(children=(HTML(value='<center> <img\\nsrc=https://huggingface.co/front/assets/huggingface_logo-noborder.sv…"
      ]
     },
     "metadata": {},
     "output_type": "display_data"
    },
    {
     "name": "stdout",
     "output_type": "stream",
     "text": [
      "starts with a j..jeje .. f_JTQGGDeycTxPCozthrzqWQhmLpOkaVKXRq\n",
      "Successfully imported all the imports\n"
     ]
    }
   ],
   "source": [
    "%run LetsDriftGemma2_imports.py\n",
    "import json # TODO: Move to imports.py\n",
    "import os # TODO: Move to imports.py\n"
   ]
  },
  {
   "cell_type": "markdown",
   "metadata": {},
   "source": [
    "#### Choose Model here"
   ]
  },
  {
   "cell_type": "code",
   "execution_count": 2,
   "metadata": {},
   "outputs": [
    {
     "name": "stderr",
     "output_type": "stream",
     "text": [
      "WARNING:root:You tried to specify center_unembed=True for a model using logit softcap, but this can't be done! Softcapping is not invariant upon adding a constantSetting center_unembed=False instead.\n"
     ]
    },
    {
     "data": {
      "application/vnd.jupyter.widget-view+json": {
       "model_id": "361966f7c92f49aabec7031af3e9e08c",
       "version_major": 2,
       "version_minor": 0
      },
      "text/plain": [
       "Loading checkpoint shards:   0%|          | 0/4 [00:00<?, ?it/s]"
      ]
     },
     "metadata": {},
     "output_type": "display_data"
    },
    {
     "name": "stderr",
     "output_type": "stream",
     "text": [
      "WARNING:root:With reduced precision, it is advised to use `from_pretrained_no_processing` instead of `from_pretrained`.\n",
      "WARNING:root:You are not using LayerNorm, so the writing weights can't be centered! Skipping\n"
     ]
    },
    {
     "name": "stdout",
     "output_type": "stream",
     "text": [
      "Loaded pretrained model gemma-2-9b-it into HookedTransformer\n"
     ]
    }
   ],
   "source": [
    "\"\"\" # TODO Implement chooser\n",
    "if model2use == \"gemma2_2b_it\": \n",
    "    tokenizer = AutoTokenizer.from_pretrained(\"google/gemma-2-2b-it\")\n",
    "    model = AutoModelForCausalLM.from_pretrained(\n",
    "    \"google/gemma-2-2b-it\",\n",
    "    device_map=\"auto\",\n",
    "        torch_dtype=t.bfloat16,\n",
    "    )\n",
    "    print(\"gemma2_2b_it loaded\")\n",
    "elif model2use == \"gemma2_9b_it\":\n",
    "    tokenizer = AutoTokenizer.from_pretrained(\"google/gemma-2-9b-it\")\n",
    "    model = AutoModelForCausalLM.from_pretrained(\n",
    "    \"google/gemma-2-9b-it\",\n",
    "    device_map=\"auto\",\n",
    "    torch_dtype=t.bfloat16,\n",
    "    )\n",
    "    print(\"gemma2_9b_it loaded\")\n",
    "\"\"\"\n",
    "#from sae_lens import SAE\n",
    "\n",
    "model2use = \"gemma2_9b_it_131k\"\n",
    "\n",
    "if model2use == \"gemma2_2b\":\n",
    "    model_name = \"gemma-2-2b\"\n",
    "    gemma_2_2b = HookedSAETransformer.from_pretrained(model_name, device=device)\n",
    "\n",
    "    gemmascope_sae_release = \"gemma-scope-2b-pt-res-canonical\"\n",
    "    gemmascope_sae_id = \"layer_20/width_16k/canonical\"\n",
    "\n",
    "    gemma_2_2b_sae = SAE.from_pretrained(gemmascope_sae_release, gemmascope_sae_id, device=str(device))[0]\n",
    "elif model2use == \"gemma2_9b_it_16k\":  \n",
    "    model_name = \"gemma-2-9b-it\"\n",
    "    gemma_2_2b = HookedSAETransformer.from_pretrained(model_name, device=device, dtype=\"float16\")  # dtype float16 helps with CUDA RAM issues..\n",
    "    gemmascope_sae_release = \"gemma-scope-9b-it-res-canonical\"\n",
    "    gemmascope_sae_id = \"layer_9/width_16k/canonical\"\n",
    "    gemma_2_2b_sae = SAE.from_pretrained(gemmascope_sae_release, gemmascope_sae_id, device=str(device))[0]\n",
    "\n",
    "elif model2use == \"gemma2_9b_it_131k\":  \n",
    "    model_name = \"gemma-2-9b-it\"\n",
    "    gemma_2_2b = HookedSAETransformer.from_pretrained(model_name, device=device, dtype=\"float16\")  # dtype float16 helps with CUDA RAM issues..\n",
    "    gemmascope_sae_release = \"gemma-scope-9b-it-res-canonical\" \n",
    "    gemmascope_sae_id = \"layer_9/width_131k/canonical\"\n",
    "    gemma_2_2b_sae = SAE.from_pretrained(gemmascope_sae_release, gemmascope_sae_id, device=str(device))[0]\n",
    "    gemmascope_sae_release = \"gemma-scope-9b-it-res-canonical\" \n",
    "    gemmascope_sae_id_layer31 = \"layer_31/width_131k/canonical\"\n",
    "    gemma_2_9bit_sae_layer31 = SAE.from_pretrained(gemmascope_sae_release, gemmascope_sae_id_layer31, device=str(device))[0]\n",
    "    gemmascope_sae_id_layer20 = \"layer_20/width_131k/canonical\"\n",
    "    gemma_2_9bit_sae_layer20 = SAE.from_pretrained(gemmascope_sae_release, gemmascope_sae_id_layer20, device=str(device))[0]\n",
    "else:\n",
    "    raise ValueError(f\"Invalid model2use value: {model2use}. Must be one of: 'gemma2_2b', 'gemma2_9b_it'\")"
   ]
  },
  {
   "cell_type": "code",
   "execution_count": 3,
   "metadata": {},
   "outputs": [
    {
     "name": "stdout",
     "output_type": "stream",
     "text": [
      "\n",
      "SAEs map for gemma-2-9b-it model:\n",
      "\n",
      "gemma-scope-9b-it-res-canonical:\n",
      "{'layer_9/width_16k/canonical': 'layer_9/width_16k/average_l0_88', 'layer_20/width_16k/canonical': 'layer_20/width_16k/average_l0_91', 'layer_31/width_16k/canonical': 'layer_31/width_16k/average_l0_76', 'layer_9/width_131k/canonical': 'layer_9/width_131k/average_l0_121', 'layer_20/width_131k/canonical': 'layer_20/width_131k/average_l0_81', 'layer_31/width_131k/canonical': 'layer_31/width_131k/average_l0_109'}\n"
     ]
    }
   ],
   "source": [
    "from sae_lens.toolkit.pretrained_saes_directory import get_pretrained_saes_directory\n",
    "\n",
    "# Get directory and convert to dataframe\n",
    "df = pd.DataFrame.from_records(\n",
    "    {k: v.__dict__ for k, v in get_pretrained_saes_directory().items()}\n",
    ").T\n",
    "\n",
    "# Filter for gemma-2-9b-it model and display saes_map\n",
    "gemma_9b_saes = df[df['model'] == 'gemma-2-9b-it']\n",
    "print(\"\\nSAEs map for gemma-2-9b-it model:\")\n",
    "for idx, row in gemma_9b_saes.iterrows():\n",
    "    print(f\"\\n{idx}:\")\n",
    "    print(row['saes_map'])"
   ]
  },
  {
   "cell_type": "markdown",
   "metadata": {},
   "source": [
    "###### FRAGE für Schacht; was ist Average_l0_88, canonical?"
   ]
  },
  {
   "cell_type": "markdown",
   "metadata": {},
   "source": [
    "# CONFIG: Generate_Kwargs, Random Seed, EnaDebug"
   ]
  },
  {
   "cell_type": "markdown",
   "metadata": {},
   "source": [
    "#### Necessary Functions & Utilities - GENERAL \n"
   ]
  },
  {
   "cell_type": "code",
   "execution_count": 4,
   "metadata": {
    "tags": [
     "parameters"
    ]
   },
   "outputs": [
    {
     "data": {
      "text/plain": [
       "<torch._C.Generator at 0x1fbdf56b550>"
      ]
     },
     "execution_count": 4,
     "metadata": {},
     "output_type": "execute_result"
    }
   ],
   "source": [
    "\n",
    "# Define output file name and folder\n",
    "folder_names = [\"60to75USMLE_pirate_v2_fixed\", \"77to82USMLE_negative_v2_fixed\", \"77to82Hotpot_negative_v2_fixed\"]\n",
    "default_temp = 0.02 # was 0.1 in v2first run, 0.075 in '60to75'. 0.02 in 75to77, 0.02 for all \"_fixed\"\n",
    "default_freq_penalty = 1.5 # was 2.0 in v2 first run. 1.5 in \"_fixed\"\n",
    "def set_KWARGS_to_default():\n",
    "    global GENERATE_KWARGS  # Declare that we want to modify the global variable\n",
    "    GENERATE_KWARGS = dict(temperature=default_temp, freq_penalty=default_freq_penalty, verbose=False)\n",
    "\n",
    "GENERATE_KWARGS = dict(temperature=default_temp, freq_penalty=default_freq_penalty, verbose=False)#(temperature=0.5, freq_penalty=2.0, verbose=False)\n",
    "seed_int: int = 42\n",
    "t.manual_seed(seed_int)"
   ]
  },
  {
   "cell_type": "code",
   "execution_count": 5,
   "metadata": {
    "tags": [
     "parameters"
    ]
   },
   "outputs": [],
   "source": [
    "%run SAE_Lens_Scripts.py\n",
    "# Test that dashboard script was added to the workspace correctly\n",
    "\n",
    "ENA_DEBUG_PRINT = False # additional print statements for debugging\n",
    "#max_queries=10 # amount of qs to ask from the dataset !defined together with dataset now\n",
    "max_tokens=1300 # amount of tokens to generate for each answer -- first pirate run with 50\n",
    "\n",
    "#latent_idx = 12082 # Steered latent 12082 == Dogs in Gemma2 2b #! overwritten in run-script but still installed as default\n",
    "# ! TODO: Add all these (incld GENERATE_KWARGS) to the yaml output file for trackenings\n"
   ]
  },
  {
   "cell_type": "code",
   "execution_count": null,
   "metadata": {},
   "outputs": [],
   "source": []
  },
  {
   "cell_type": "code",
   "execution_count": 6,
   "metadata": {},
   "outputs": [],
   "source": [
    "#display_dashboard(sae_release=gemmascope_sae_release, sae_id=gemmascope_sae_id)\n",
    "# display_dashboard(sae_release=gemmascope_sae_release, sae_id=gemmascope_sae_id, latent_idx=latent_idx)"
   ]
  },
  {
   "cell_type": "markdown",
   "metadata": {},
   "source": [
    "#### Necessary Functions - Steering"
   ]
  },
  {
   "cell_type": "code",
   "execution_count": 7,
   "metadata": {},
   "outputs": [],
   "source": [
    "#from solutions.py part of part32_interp_with_saes because solution in Streamlit page isnt commplete - the steering_hook solution was misssing?\n",
    "def steering_hook(\n",
    "    activations: Float[Tensor, \"batch pos d_in\"],\n",
    "    hook: HookPoint,\n",
    "    sae: SAE,\n",
    "    latent_idx: int,\n",
    "    steering_coefficient: float,\n",
    ") -> Tensor:\n",
    "    \"\"\"\n",
    "    Steers the model by returning a modified activations tensor, with some multiple of the steering vector added to all\n",
    "    sequence positions.\n",
    "    \"\"\"\n",
    "    return activations + steering_coefficient * sae.W_dec[latent_idx]"
   ]
  },
  {
   "cell_type": "code",
   "execution_count": 8,
   "metadata": {},
   "outputs": [],
   "source": [
    "def generate_with_steering_and_return_logits(\n",
    "    model: HookedSAETransformer,\n",
    "    sae: SAE,\n",
    "    prompt: str,\n",
    "    latent_idx: int,\n",
    "    steering_coefficient: float = 1.0,\n",
    "    max_new_tokens: int = 50,\n",
    "):\n",
    "    \"\"\"\n",
    "    Generates text with steering and returns output text and logits\n",
    "    of the last token from each forward pass as simple lists.\n",
    "    \"\"\"\n",
    "    _steering_hook = partial(\n",
    "        steering_hook,\n",
    "        sae=sae,\n",
    "        latent_idx=latent_idx,\n",
    "        steering_coefficient=steering_coefficient,\n",
    "    )\n",
    "    \n",
    "    #last_token_logits = [[]]  # Initialize with an empty list inside\n",
    "    layer9_logits = [[]] # will save only last forward pass' logits\n",
    "    layer20_logits = [[]]\n",
    "    layer31_logits = [[]]\n",
    "    def logit_capture_hook(activations, hook): #TODO: HARDCODED LAYER9\n",
    "        # Only capture logits for the last token, convert to 1D list\n",
    "        logits = activations[:, -1, :].squeeze(0).detach().cpu().tolist()\n",
    "        layer9_logits[0].append(logits)\n",
    "        return activations\n",
    "    def logit_capture_hook_layer20(activations, hook): #TODO: HARDCODED LAYER20\n",
    "        logits = activations[:, -1, :].squeeze(0).detach().cpu().tolist()\n",
    "        layer20_logits[0].append(logits)\n",
    "        return activations\n",
    "    def logit_capture_hook_layer31(activations, hook): #TODO: HARDCODED LAYER31\n",
    "        logits = activations[:, -1, :].squeeze(0).detach().cpu().tolist()\n",
    "        layer31_logits[0].append(logits)\n",
    "        return activations\n",
    "    \n",
    "\n",
    "    with model.hooks(fwd_hooks=[\n",
    "        (sae.cfg.hook_name, _steering_hook),\n",
    "        (f\"blocks.{sae.cfg.hook_layer}.hook_resid_post\", logit_capture_hook),\n",
    "        (f\"blocks.{gemma_2_9bit_sae_layer20.cfg.hook_layer}.hook_resid_post\", logit_capture_hook_layer20), #TODO: HARDCODED gemma_2_9bit_sae_layer20 here\n",
    "        (f\"blocks.{gemma_2_9bit_sae_layer31.cfg.hook_layer}.hook_resid_post\", logit_capture_hook_layer31), #TODO: HARDCODED gemma_2_9bit_sae_layer31 here\n",
    "    ]):\n",
    "        input_tokens = model.to_tokens(prompt).clone()\n",
    "        generated_tokens = model.generate(\n",
    "            input_tokens,\n",
    "            max_new_tokens=max_new_tokens,\n",
    "            **GENERATE_KWARGS\n",
    "        )\n",
    "        \n",
    "        # Get just the generated tokens (excluding prompt tokens)\n",
    "        answer_tokens = generated_tokens[0, input_tokens.shape[1]:]\n",
    "\n",
    "        # Convert only the answer tokens to string \n",
    "        # ==>NOTE: Updated in V2, previously always got the input_text in the answer, as well. \n",
    "        output_text = model.to_string(answer_tokens) \n",
    "        answer_tokens_cpu =  generated_tokens[0, input_tokens.shape[1]:].detach().cpu().tolist()\n",
    "    return output_text, answer_tokens_cpu, layer9_logits[0], layer20_logits[0], layer31_logits[0] \n",
    "# Layer logits return as lists (not tensors!): [output_text, [[logits_1], [logits_2], ...]]"
   ]
  },
  {
   "cell_type": "code",
   "execution_count": 9,
   "metadata": {},
   "outputs": [],
   "source": [
    "def compute_sae_activations_from_logits(\n",
    "    sae: SAE,\n",
    "    last_token_logits: list[list[float]],\n",
    "    return_all: bool = False\n",
    ") -> list[float] | list[list[float]]:\n",
    "    \"\"\"\n",
    "    Compute SAE activations from a list of logits lists.\n",
    "    \n",
    "    Args:\n",
    "        sae: The SAE model\n",
    "        last_token_logits: List of logit lists from each forward pass\n",
    "        return_all: If True, return activations for all forward passes\n",
    "                   If False, return only activations from final forward pass\n",
    "    \n",
    "    Returns:\n",
    "        If return_all=False: List of SAE activations for final token\n",
    "        If return_all=True: List of lists containing SAE activations for each token\n",
    "    \"\"\"\n",
    "    # Convert logits to activations through SAE\n",
    "    sae_activations = []\n",
    "    \n",
    "    for logits in last_token_logits:\n",
    "        # Convert list to tensor and add batch dimension\n",
    "        logits_tensor = t.tensor(logits).unsqueeze(0).to(sae.W_enc.device)\n",
    "        \n",
    "        # Compute SAE activations\n",
    "        acts = sae.encode(logits_tensor)\n",
    "        # Convert to 1D list\n",
    "        acts_list = acts.squeeze(0).cpu().tolist()\n",
    "        sae_activations.append(acts_list)\n",
    "        \n",
    "    if return_all:\n",
    "        return sae_activations\n",
    "    else:\n",
    "        # Return only the last token's activations\n",
    "        return sae_activations[-1]"
   ]
  },
  {
   "cell_type": "code",
   "execution_count": 10,
   "metadata": {},
   "outputs": [
    {
     "data": {
      "text/plain": [
       "'\\n# NOT USED IN V2, (yet) \\ndef get_top_latents(sae_acts, k=10):\\n    # Remove batch dimension if present\\n    if len(sae_acts.shape) > 1:\\n        sae_acts = sae_acts[0]  # Take first batch element\\n    \\n    # Get top k latents and their activations\\n    values, indices = t.topk(sae_acts, k)\\n    \\n    # Format as list of (index, value) tuples\\n    return [(int(idx.item()), float(val.item())) for idx, val in zip(indices, values)]'"
      ]
     },
     "execution_count": 10,
     "metadata": {},
     "output_type": "execute_result"
    }
   ],
   "source": [
    "\"\"\"\n",
    "# NOT USED IN V2, (yet) \n",
    "def get_top_latents(sae_acts, k=10):\n",
    "    # Remove batch dimension if present\n",
    "    if len(sae_acts.shape) > 1:\n",
    "        sae_acts = sae_acts[0]  # Take first batch element\n",
    "    \n",
    "    # Get top k latents and their activations\n",
    "    values, indices = t.topk(sae_acts, k)\n",
    "    \n",
    "    # Format as list of (index, value) tuples\n",
    "    return [(int(idx.item()), float(val.item())) for idx, val in zip(indices, values)]\"\"\""
   ]
  },
  {
   "cell_type": "markdown",
   "metadata": {},
   "source": [
    "##### CONFIG: Folder Handling / init"
   ]
  },
  {
   "cell_type": "markdown",
   "metadata": {},
   "source": [
    "ToDo V2_looped\n",
    "Change output structure. Since it's a lot more data, makes more sense to have a folder of output files for each run. i.e a folder 'V2_0to60Hotpot_pirate'. Then for each answer have a jsonL file for metadata and then one for each prompt's answers (APPEND manual evaluation), and then one for each answer's (unsteered, steered1, steered2) logits. If needed, these can then later be converted and written to another JSONL of format SAE_act_unsteered, steered_1, etc."
   ]
  },
  {
   "cell_type": "code",
   "execution_count": 11,
   "metadata": {},
   "outputs": [
    {
     "name": "stdout",
     "output_type": "stream",
     "text": [
      "WARNING! Folder 60to75USMLE_pirate_v2_fixed already exists. Ensure it's empty to make your evaluation life easier later!!\n",
      "Created 77to82USMLE_negative_v2_fixed directory\n",
      "Created 77to82Hotpot_negative_v2_fixed directory\n"
     ]
    }
   ],
   "source": [
    "# DEFINE ALL FILE NAMES \n",
    "# TODO: manual implementation. Could automate, depending on the hookpoints and other options contained in the file and folder name, chosen previously.\n",
    "bI_know_what_Im_doin_mode = True\n",
    "def folder_making_handler(folder_names_list):\n",
    "    for folder_name in folder_names_list:\n",
    "        if not os.path.exists(folder_name):\n",
    "            os.makedirs(folder_name)\n",
    "            print(f\"Created {folder_name} directory\")\n",
    "        else:\n",
    "            print(f\"WARNING! Folder {folder_name} already exists. Ensure it's empty to make your evaluation life easier later!!\")\n",
    "            #if not bI_know_what_Im_doin_mode:\n",
    "                #Raise ValueError(\"Check folder names above are correctly set in CONFIG and EMPTY before running loop\")\n",
    "# Create output folder if it doesn't exist\n",
    "\n",
    "\n",
    "folder_making_handler(folder_names)\n"
   ]
  },
  {
   "cell_type": "markdown",
   "metadata": {},
   "source": [
    "##### Main Eval Function to be placed into a loop script handling the datasets"
   ]
  },
  {
   "cell_type": "code",
   "execution_count": 12,
   "metadata": {},
   "outputs": [
    {
     "name": "stdout",
     "output_type": "stream",
     "text": [
      "max_tokens: 1300\n",
      "output_folder: 60to75USMLE_pirate_v2_fixed\n",
      "output_folder: 77to82USMLE_negative_v2_fixed\n",
      "output_folder: 77to82Hotpot_negative_v2_fixed\n"
     ]
    }
   ],
   "source": [
    "try:\n",
    "    print(\"max_tokens:\", max_tokens)\n",
    "    for i in range(len(folder_names)):\n",
    "        print(\"output_folder:\", folder_names[i])\n",
    "except NameError as e:\n",
    "    print(f\"Error: Variable not defined - {e}\")\n"
   ]
  },
  {
   "cell_type": "code",
   "execution_count": 13,
   "metadata": {},
   "outputs": [],
   "source": [
    "def evaluate_with_steering(  \n",
    "    prompt: str, \n",
    "    prompt_id: int, \n",
    "    ref_answer: str, \n",
    "    latent_id : int, \n",
    "    bWriteMetaData:bool, #Handle in loop..: execute only on first prompt for this folder\n",
    "    progress_bar: tqdm,  # Add progress_bar parameter\n",
    "    num_steered_examples: int=2, \n",
    "    steering_coeff : int = 240,\n",
    "    output_path: str =\"output_path_not_set\",\n",
    "    dataset_name : str = \"not set\", \n",
    "    comment : str=\"no comment\",\n",
    "    incremental_temperature : bool = False,\n",
    "    max_n_tkns : int = max_tokens, # ! Note: Local var max_tokens\n",
    "):\n",
    "    # File handling\n",
    "    if bWriteMetaData: \n",
    "        with open(os.path.join(output_path, 'metadata.jsonl'), 'a') as file:\n",
    "            data = {\n",
    "                'Dataset': dataset_name,\n",
    "                'Starting_Prompt_ID': prompt_id,\n",
    "                'Model' : model_name, # !Note: Local Var in Jupy Notebook\n",
    "                'SAE_release' : gemmascope_sae_release,# !Note: Local VAr. **For now,** it's the SAE that's used for steering, too.\n",
    "                'SAE_ID' : gemmascope_sae_id, # !Note Local var\n",
    "                'Steered_Latent_ID': latent_id, \n",
    "                'Steering_coefficient': steering_coeff,\n",
    "                'Max_new_tokens': max_n_tkns,\n",
    "                'Temperature': GENERATE_KWARGS['temperature'], # !Note: LOcal var\n",
    "                'Frequency_penalty': GENERATE_KWARGS['freq_penalty'],\n",
    "                'Verbose' : GENERATE_KWARGS['verbose'],\n",
    "                'Incremental_temperature' : incremental_temperature, \n",
    "                'Comment' : comment,       \n",
    "                'Other HookedSAETransformers:' :  \"Rel: gemma-scope-9b-it-res-canonical\" + \"IDs: \" + gemmascope_sae_id_layer31 + \" & \" + gemmascope_sae_id_layer31  #!Note: Local var\n",
    "            }\n",
    "            file.write(json.dumps(data)) # every time you add a new data'set' like this, instead of appending, it will put this dataset it in a new {curly braket}. However, a new line is only started using \\n (jsonL !)\n",
    "            file.write('\\n')\n",
    "            file.flush()  # Ensure data is written to disk\n",
    "    with open(os.path.join(output_path, 'ID'+str(prompt_id)+'_out.jsonl'), 'a') as file:\n",
    "        data = {\n",
    "            'Prompt_ID': prompt_id,\n",
    "            'Prompt': prompt,\n",
    "            'Ref_answer': ref_answer,\n",
    "        }\n",
    "        file.write(json.dumps(data)) # every time you add a new data'set' like this, instead of appending, it will put this dataset it in a new {curly braket}. However, a new line is only started using \\n (jsonL !)\n",
    "        file.write('\\n')\n",
    "        file.flush()  # Ensure data is written to disk\n",
    "\n",
    "        \"\"\"\n",
    "        #TODO: all the outputs like logits_l9_steered have manual names specifc to this HookedSAEtrans.\n",
    "        no_steering_output, logits_l9_steered, logits_l20, logits_l31 = generate_with_steering_and_return_logits(\n",
    "            gemma_2_2b, #NOTE: Actually gemma2_9b_it now.... \n",
    "            gemma_2_2b_sae,\n",
    "        # Save some RAM:\n",
    "        #t.cuda.empty_cache()\n",
    "        #del sae_acts\n",
    "        #file.flush()  # Ensure data is written to disk\n",
    "        #progress_bar.update(1)  # Update the passed progress bar\n",
    "    _steering_coeff : int = 1\n",
    "        # FOR LOOP to come here...:\n",
    "        for i in range(num_steered_examples+1):\n",
    "        }\n",
    "\n",
    "\n",
    "                    'SAE_Activations_No_Steering' : sae_acts.tolist(),\n",
    "        file.write(json.dumps(data_unsteered))\"\"\"\n",
    "        # Save some RAM:\n",
    "        #t.cuda.empty_cache()\n",
    "        #del sae_acts\n",
    "        #file.flush()  # Ensure data is written to disk\n",
    "        #progress_bar.update(1)  # Update the passed progress bar\n",
    "        _steering_coeff = steering_coeff\n",
    "        # FOR LOOP to come here...:\n",
    "        for i in range(num_steered_examples+1):\n",
    "            if i == 0: \n",
    "                typeOfAnswer = 'Answer_No_Steering'\n",
    "                steering_coeff = 1\n",
    "                # First, generate the normal response\n",
    "                progress_bar.set_description(\" ⤷ Generating:   unsteered example (1/1)\")\n",
    "            else:\n",
    "                typeOfAnswer = 'Answer_Steered'+str(i)\n",
    "                steering_coeff = _steering_coeff\n",
    "                progress_bar.set_description(f\" ⤷ Generating:   steered example ({i}/{num_steered_examples}) (with temperature={GENERATE_KWARGS['temperature']:.2f})\")\n",
    "            output_text, output_tokens, logits_l9, logits_l20, logits_l31 = generate_with_steering_and_return_logits(\n",
    "                gemma_2_2b,\n",
    "                gemma_2_2b_sae,\n",
    "                prompt,\n",
    "                latent_id,\n",
    "                steering_coefficient    = steering_coeff,\n",
    "                max_new_tokens      = max_n_tkns\n",
    "            )\n",
    "            file.write(json.dumps({typeOfAnswer : output_text})+'\\n')\n",
    "            file.write(json.dumps({'Output_Tokens_' + typeOfAnswer : output_tokens})+'\\n')\n",
    "            file.write(json.dumps({'Activations_' + typeOfAnswer + '_layer9' : logits_l9})+ '\\n')\n",
    "            file.write(json.dumps({'Activations_' + typeOfAnswer + '_layer20' : logits_l20})+ '\\n')\n",
    "            file.write(json.dumps({'Activations_' + typeOfAnswer + '_layer31' : logits_l31})+ '\\n')\n",
    "            file.flush()\n",
    "            file.write(\n",
    "                json.dumps({\n",
    "                    'SAE_Activations_' + typeOfAnswer + '_layer9': compute_sae_activations_from_logits(\n",
    "                        sae=gemma_2_2b_sae,\n",
    "                        last_token_logits=logits_l9,\n",
    "                        return_all=True  #NOTE: **SSD Storage:** returning all forward pass' latents is 30MB per Answer.\n",
    "                    )\n",
    "                }) + '\\n'\n",
    "            )\n",
    "            file.write(\n",
    "                json.dumps({\n",
    "                    'SAE_Activations_' + typeOfAnswer + '_layer20': compute_sae_activations_from_logits(\n",
    "                        sae=gemma_2_9bit_sae_layer20,\n",
    "                        last_token_logits=logits_l20,\n",
    "                        return_all=True\n",
    "                    )\n",
    "                }) + '\\n'\n",
    "            )\n",
    "            file.write(\n",
    "                json.dumps({\n",
    "                    'SAE_Activations_' + typeOfAnswer + '_layer31': compute_sae_activations_from_logits(\n",
    "                        sae=gemma_2_9bit_sae_layer31,\n",
    "                        last_token_logits=logits_l31,\n",
    "                        return_all=True\n",
    "                    )\n",
    "                }) + '\\n'\n",
    "            )\n",
    "            file.flush()\n",
    "            \n",
    "            # Double the temperature for subsequent generations\n",
    "            if incremental_temperature: \n",
    "                GENERATE_KWARGS['temperature'] *= 2 # !Note: Local var \n",
    "\n",
    "            progress_bar.update(1)  # Update the passed progress bar\n",
    "            progress_bar.refresh()  # Force refresh the display\n",
    "            \n",
    "        #AFTER running through for loop, reset KWARGS for next run and empty RAM\n",
    "        set_KWARGS_to_default() # !Note: Local vars are used here.. ~~ which is why this is needed\n",
    "        t.cuda.empty_cache()\n",
    " "
   ]
  },
  {
   "cell_type": "markdown",
   "metadata": {},
   "source": [
    "Some Latents to try...:\n",
    "gemma2_9b, \n",
    "\n",
    "SAE 131k, layer9 res, ID 29917: Pirates, also 77558\n",
    "\n",
    "coeff on neuropedia example: 41.5, 16.5, *4 (default settings, coeff * strength)\n"
   ]
  },
  {
   "cell_type": "code",
   "execution_count": 14,
   "metadata": {},
   "outputs": [
    {
     "data": {
      "text/plain": [
       "\"\\nprmptid=2\\nlatents = [0,15,155,2299.3]\\nwith open(os.path.join(output_path, 'ID'+str(prmptid)+'_out.jsonl'), 'a') as file:\\n        file.write(str(latents))\\n        file.write('\\n')\\n        file.write(json.dumps({str(prmptid)+'_text:' : latents})+ '\\n')\\n        file.write(json.dumps({str(prmptid)+'_text:' : latents}))\\n        file.flush()\""
      ]
     },
     "execution_count": 14,
     "metadata": {},
     "output_type": "execute_result"
    }
   ],
   "source": [
    "#playing around with jsonL printing...\n",
    "\"\"\"\n",
    "prmptid=2\n",
    "latents = [0,15,155,2299.3]\n",
    "with open(os.path.join(output_path, 'ID'+str(prmptid)+'_out.jsonl'), 'a') as file:\n",
    "        file.write(str(latents))\n",
    "        file.write('\\n')\n",
    "        file.write(json.dumps({str(prmptid)+'_text:' : latents})+ '\\n')\n",
    "        file.write(json.dumps({str(prmptid)+'_text:' : latents}))\n",
    "        file.flush()\"\"\""
   ]
  },
  {
   "cell_type": "code",
   "execution_count": 15,
   "metadata": {},
   "outputs": [
    {
     "data": {
      "text/plain": [
       "'\\nm_n_tkns=40\\nprompt = \"The football manager who recruited David Beckham managed Manchester United during what timeframe?\"\\nanswer = \"from 1986 to 2013\"\\nprompt_id = 2\\n#for i in tqdm(range(3), \"Generating steered examples...\"): .. use tqdm for each prompt from dataset\\noutput_string, last_token_logits = generate_with_steering_and_return_logits(\\n    model=gemma_2_2b,           # Add required model parameter\\n    sae=gemma_2_2b_sae,        # Add required sae parameter\\n    prompt=prompt,\\n    latent_idx=29917,\\n    steering_coefficient=150,\\n    max_new_tokens=m_n_tkns          # Optional, will use default if not specified\\n)'"
      ]
     },
     "execution_count": 15,
     "metadata": {},
     "output_type": "execute_result"
    }
   ],
   "source": [
    "#### Debug example\n",
    "\"\"\"\n",
    "m_n_tkns=40\n",
    "prompt = \"The football manager who recruited David Beckham managed Manchester United during what timeframe?\"\n",
    "answer = \"from 1986 to 2013\"\n",
    "prompt_id = 2\n",
    "#for i in tqdm(range(3), \"Generating steered examples...\"): .. use tqdm for each prompt from dataset\n",
    "output_string, last_token_logits = generate_with_steering_and_return_logits(\n",
    "    model=gemma_2_2b,           # Add required model parameter\n",
    "    sae=gemma_2_2b_sae,        # Add required sae parameter\n",
    "    prompt=prompt,\n",
    "    latent_idx=29917,\n",
    "    steering_coefficient=150,\n",
    "    max_new_tokens=m_n_tkns          # Optional, will use default if not specified\n",
    ")\"\"\""
   ]
  },
  {
   "cell_type": "code",
   "execution_count": 16,
   "metadata": {},
   "outputs": [],
   "source": [
    "# output_string"
   ]
  },
  {
   "cell_type": "markdown",
   "metadata": {},
   "source": [
    "Debugging Code.."
   ]
  },
  {
   "cell_type": "code",
   "execution_count": 17,
   "metadata": {},
   "outputs": [
    {
     "data": {
      "text/plain": [
       "'# Print total number of elements in the list\\nprint(f\"Number of entries in last_token_logits list: {len(last_token_logits)}\")\\n\\n# Print length of each list element\\nfor i, element in enumerate(last_token_logits):\\n    print(f\"Entry {i}: {len(element)} elements\")\\n\\n# Verify all list elements have same length\\nif len(last_token_logits) > 0:\\n    first_size = len(last_token_logits[0])\\n    all_same = all(len(elem) == first_size for elem in last_token_logits)\\n    print(f\"\\nAll entries have same length: {all_same}\")'"
      ]
     },
     "execution_count": 17,
     "metadata": {},
     "output_type": "execute_result"
    }
   ],
   "source": [
    "\"\"\"# Print total number of elements in the list\n",
    "print(f\"Number of entries in last_token_logits list: {len(last_token_logits)}\")\n",
    "\n",
    "# Print length of each list element\n",
    "for i, element in enumerate(last_token_logits):\n",
    "    print(f\"Entry {i}: {len(element)} elements\")\n",
    "\n",
    "# Verify all list elements have same length\n",
    "if len(last_token_logits) > 0:\n",
    "    first_size = len(last_token_logits[0])\n",
    "    all_same = all(len(elem) == first_size for elem in last_token_logits)\n",
    "    print(f\"\\nAll entries have same length: {all_same}\")\"\"\"\n"
   ]
  },
  {
   "cell_type": "code",
   "execution_count": 18,
   "metadata": {},
   "outputs": [
    {
     "data": {
      "text/plain": [
       "'last_token_logits is a list, cannot get dtype/shape\\nList contents: [tensor([[ 5.5235,  3.9231, -4.7625,  ..., -2.4402, -3.3925,  5.8776]]), tensor([[ 2.8745,  6.7737, -2.8518,  ..., -2.7508, -2.8021,  4.5817]]), tensor([[ 1.7290,  4.6683, -4.7947,  ..., -3.4908, -1.8395,  3.8488]]), tensor([[ 2.0879,  4.0467, -6.9280,  ..., -4.1043, -3.6327,  3.5437]]), tensor([[ 1.8003,  3.6028, -5.5081,  ..., -3.6028, -3.3456,  2.3640]]), tensor([[ 3.5664,  4.9417, -3.1390,  ..., -2.5826, -4.2694,  3.5524]]), tensor([[ 0.0078,  2.2015, -7.1429,  ..., -1.3113, -1.3153,  7.4675]]), tensor([[ 3.0611,  0.9554, -3.0784,  ...,  0.8068, -1.1161,  4.1193]]), tensor([[ 2.0401,  2.2659, -1.1526,  ...,  1.2560,  0.6661,  4.7253]]), tensor([[ 3.0938,  2.2308, -2.6458,  ..., -3.1746, -1.7443,  5.0207]]), tensor([[ 2.4180,  3.8399, -3.1468,  ..., -3.9202, -0.7333,  2.7800]]), tensor([[-0.2636,  1.2659, -2.5432,  ..., -5.2459, -1.2787,  4.4353]]), tensor([[ 1.3946,  3.8055, -5.8489,  ..., -2.1971, -2.2274,  4.9362]]), tensor([[ 0.8545,  4.0491, -3.4124,  ..., -3.7952, -2.9559,  4.9348]]), tensor([[ 3.8536,  2.2942, -2.2659,  ..., -2.1199, -1.0018,  6.3122]]), tensor([[ 2.7666,  2.7425, -0.6956,  ..., -1.2723, -1.9525,  7.3132]]), tensor([[ 2.5791,  2.7864, -4.7915,  ..., -1.3797, -3.6171,  4.9821]]), tensor([[ 2.5469,  4.4651, -5.2815,  ..., -2.8272, -5.2108,  3.9089]]), tensor([[ 1.7383,  3.4295, -3.5076,  ..., -3.6443, -3.3358,  5.2548]]), tensor([[ 2.5533,  2.3714, -4.0328,  ..., -2.9491, -3.1913,  5.0285]]), tensor([[ 2.1685,  2.6443, -4.8699,  ..., -0.7049, -1.6478,  4.3151]]), tensor([[ 1.3457,  2.0989, -3.0413,  ..., -1.5418, -1.0419,  5.9265]]), tensor([[ 2.0953,  3.1033, -4.8396,  ..., -1.2889, -3.6874,  6.0339]]), tensor([[ 0.7598,  3.2635, -3.2972,  ..., -1.3875, -3.1444,  5.8405]]), tensor([[ 1.5645,  3.7151, -4.0879,  ..., -2.8441, -2.8011,  5.3552]]), tensor([[ 1.8330,  3.2408, -4.6331,  ..., -1.8152, -2.0926,  4.7211]]), tensor([[ 0.6309,  3.6092, -3.9251,  ..., -2.8655, -0.4686,  5.7497]]), tensor([[ 1.0411,  3.4437, -2.6653,  ..., -2.1287, -2.4530,  6.9069]]), tensor([[ 2.7105,  5.0491, -2.3108,  ..., -2.0989, -1.6771,  4.3491]]), tensor([[ 2.6434,  4.8538, -4.9466,  ..., -2.2454, -1.7814,  3.7985]]), tensor([[ 2.2962,  4.5989, -2.3382,  ..., -2.0643, -1.0116,  4.5315]]), tensor([[ 1.5586,  4.3655, -4.2869,  ..., -2.1556, -0.9667,  4.5946]]), tensor([[ 4.3985,  1.5364, -0.4280,  ..., -2.4412, -4.3300,  3.5241]]), tensor([[ 1.8584,  0.6585, -4.0174,  ..., -4.3641, -2.3759,  8.2390]]), tensor([[ 3.4112,  0.7835, -5.7591,  ..., -1.8807, -5.6776,  4.9135]]), tensor([[ 1.9873,  1.5325, -5.2195,  ..., -3.0543, -3.1171,  5.5568]]), tensor([[ 1.8672,  2.3812, -3.6917,  ..., -2.4153, -2.1405,  4.7966]]), tensor([[ 2.6731,  2.0110, -4.7591,  ..., -1.2283, -3.1747,  7.0046]]), tensor([[ 0.5000,  4.4944, -2.3011,  ..., -0.9256, -3.1327,  5.8562]]), tensor([[ 2.0962,  2.5452, -2.7962,  ..., -1.7820, -2.2147,  6.4050]]), tensor([[ 3.2613,  3.0699, -2.6350,  ..., -3.0047, -3.2587,  4.1291]]), tensor([[ 2.2676,  2.3538, -0.2854,  ..., -2.3543, -2.7884,  2.5847]]), tensor([[ 1.4522,  3.7808, -2.8069,  ..., -2.7171, -1.6439,  3.1325]]), tensor([[ 1.4952,  3.1685, -5.0237,  ..., -2.0916,  0.5997,  4.2443]]), tensor([[ 2.8335,  4.8040, -5.3929,  ..., -3.8514,  0.2208,  3.5153]]), tensor([[ 2.2652,  4.2625, -2.4710,  ..., -3.7357, -1.5648,  4.8591]]), tensor([[ 2.0489,  5.0911, -3.7898,  ..., -3.1721, -0.5575,  4.9532]]), tensor([[ 1.5528,  7.7249, -1.7464,  ..., -1.0975, -2.0541,  3.9821]]), tensor([[ 1.2959,  4.8519, -5.7854,  ..., -1.9832, -2.5751,  3.4030]])]\\nShape of individual tensors: torch.Size([1, 3584])\\nAll tensors have same shape: True\\nTotal number of tensors in list: 49'"
      ]
     },
     "execution_count": 18,
     "metadata": {},
     "output_type": "execute_result"
    }
   ],
   "source": [
    "\"\"\"last_token_logits is a list, cannot get dtype/shape\n",
    "List contents: [tensor([[ 5.5235,  3.9231, -4.7625,  ..., -2.4402, -3.3925,  5.8776]]), tensor([[ 2.8745,  6.7737, -2.8518,  ..., -2.7508, -2.8021,  4.5817]]), tensor([[ 1.7290,  4.6683, -4.7947,  ..., -3.4908, -1.8395,  3.8488]]), tensor([[ 2.0879,  4.0467, -6.9280,  ..., -4.1043, -3.6327,  3.5437]]), tensor([[ 1.8003,  3.6028, -5.5081,  ..., -3.6028, -3.3456,  2.3640]]), tensor([[ 3.5664,  4.9417, -3.1390,  ..., -2.5826, -4.2694,  3.5524]]), tensor([[ 0.0078,  2.2015, -7.1429,  ..., -1.3113, -1.3153,  7.4675]]), tensor([[ 3.0611,  0.9554, -3.0784,  ...,  0.8068, -1.1161,  4.1193]]), tensor([[ 2.0401,  2.2659, -1.1526,  ...,  1.2560,  0.6661,  4.7253]]), tensor([[ 3.0938,  2.2308, -2.6458,  ..., -3.1746, -1.7443,  5.0207]]), tensor([[ 2.4180,  3.8399, -3.1468,  ..., -3.9202, -0.7333,  2.7800]]), tensor([[-0.2636,  1.2659, -2.5432,  ..., -5.2459, -1.2787,  4.4353]]), tensor([[ 1.3946,  3.8055, -5.8489,  ..., -2.1971, -2.2274,  4.9362]]), tensor([[ 0.8545,  4.0491, -3.4124,  ..., -3.7952, -2.9559,  4.9348]]), tensor([[ 3.8536,  2.2942, -2.2659,  ..., -2.1199, -1.0018,  6.3122]]), tensor([[ 2.7666,  2.7425, -0.6956,  ..., -1.2723, -1.9525,  7.3132]]), tensor([[ 2.5791,  2.7864, -4.7915,  ..., -1.3797, -3.6171,  4.9821]]), tensor([[ 2.5469,  4.4651, -5.2815,  ..., -2.8272, -5.2108,  3.9089]]), tensor([[ 1.7383,  3.4295, -3.5076,  ..., -3.6443, -3.3358,  5.2548]]), tensor([[ 2.5533,  2.3714, -4.0328,  ..., -2.9491, -3.1913,  5.0285]]), tensor([[ 2.1685,  2.6443, -4.8699,  ..., -0.7049, -1.6478,  4.3151]]), tensor([[ 1.3457,  2.0989, -3.0413,  ..., -1.5418, -1.0419,  5.9265]]), tensor([[ 2.0953,  3.1033, -4.8396,  ..., -1.2889, -3.6874,  6.0339]]), tensor([[ 0.7598,  3.2635, -3.2972,  ..., -1.3875, -3.1444,  5.8405]]), tensor([[ 1.5645,  3.7151, -4.0879,  ..., -2.8441, -2.8011,  5.3552]]), tensor([[ 1.8330,  3.2408, -4.6331,  ..., -1.8152, -2.0926,  4.7211]]), tensor([[ 0.6309,  3.6092, -3.9251,  ..., -2.8655, -0.4686,  5.7497]]), tensor([[ 1.0411,  3.4437, -2.6653,  ..., -2.1287, -2.4530,  6.9069]]), tensor([[ 2.7105,  5.0491, -2.3108,  ..., -2.0989, -1.6771,  4.3491]]), tensor([[ 2.6434,  4.8538, -4.9466,  ..., -2.2454, -1.7814,  3.7985]]), tensor([[ 2.2962,  4.5989, -2.3382,  ..., -2.0643, -1.0116,  4.5315]]), tensor([[ 1.5586,  4.3655, -4.2869,  ..., -2.1556, -0.9667,  4.5946]]), tensor([[ 4.3985,  1.5364, -0.4280,  ..., -2.4412, -4.3300,  3.5241]]), tensor([[ 1.8584,  0.6585, -4.0174,  ..., -4.3641, -2.3759,  8.2390]]), tensor([[ 3.4112,  0.7835, -5.7591,  ..., -1.8807, -5.6776,  4.9135]]), tensor([[ 1.9873,  1.5325, -5.2195,  ..., -3.0543, -3.1171,  5.5568]]), tensor([[ 1.8672,  2.3812, -3.6917,  ..., -2.4153, -2.1405,  4.7966]]), tensor([[ 2.6731,  2.0110, -4.7591,  ..., -1.2283, -3.1747,  7.0046]]), tensor([[ 0.5000,  4.4944, -2.3011,  ..., -0.9256, -3.1327,  5.8562]]), tensor([[ 2.0962,  2.5452, -2.7962,  ..., -1.7820, -2.2147,  6.4050]]), tensor([[ 3.2613,  3.0699, -2.6350,  ..., -3.0047, -3.2587,  4.1291]]), tensor([[ 2.2676,  2.3538, -0.2854,  ..., -2.3543, -2.7884,  2.5847]]), tensor([[ 1.4522,  3.7808, -2.8069,  ..., -2.7171, -1.6439,  3.1325]]), tensor([[ 1.4952,  3.1685, -5.0237,  ..., -2.0916,  0.5997,  4.2443]]), tensor([[ 2.8335,  4.8040, -5.3929,  ..., -3.8514,  0.2208,  3.5153]]), tensor([[ 2.2652,  4.2625, -2.4710,  ..., -3.7357, -1.5648,  4.8591]]), tensor([[ 2.0489,  5.0911, -3.7898,  ..., -3.1721, -0.5575,  4.9532]]), tensor([[ 1.5528,  7.7249, -1.7464,  ..., -1.0975, -2.0541,  3.9821]]), tensor([[ 1.2959,  4.8519, -5.7854,  ..., -1.9832, -2.5751,  3.4030]])]\n",
    "Shape of individual tensors: torch.Size([1, 3584])\n",
    "All tensors have same shape: True\n",
    "Total number of tensors in list: 49\"\"\""
   ]
  },
  {
   "cell_type": "code",
   "execution_count": 19,
   "metadata": {},
   "outputs": [
    {
     "data": {
      "text/plain": [
       "'# Get SAE activations for final token\\nfinal_sae_acts = compute_sae_activations_from_logits(\\n    sae=gemma_2_2b_sae,\\n    last_token_logits=last_token_logits,\\n    return_all=False\\n)\\n\\n# Or get SAE activations for all tokens\\nall_sae_acts = compute_sae_activations_from_logits(\\n    sae=gemma_2_2b_sae,\\n    last_token_logits=last_token_logits,\\n    return_all=True\\n)'"
      ]
     },
     "execution_count": 19,
     "metadata": {},
     "output_type": "execute_result"
    }
   ],
   "source": [
    "\"\"\"# Get SAE activations for final token\n",
    "final_sae_acts = compute_sae_activations_from_logits(\n",
    "    sae=gemma_2_2b_sae,\n",
    "    last_token_logits=last_token_logits,\n",
    "    return_all=False\n",
    ")\n",
    "\n",
    "# Or get SAE activations for all tokens\n",
    "all_sae_acts = compute_sae_activations_from_logits(\n",
    "    sae=gemma_2_2b_sae,\n",
    "    last_token_logits=last_token_logits,\n",
    "    return_all=True\n",
    ")\"\"\""
   ]
  },
  {
   "cell_type": "code",
   "execution_count": 20,
   "metadata": {},
   "outputs": [],
   "source": [
    "# !Note: move the following to Eval!"
   ]
  },
  {
   "cell_type": "code",
   "execution_count": 21,
   "metadata": {},
   "outputs": [],
   "source": [
    "def plot_top_x_unique_latents(all_sae_acts, num_last_passes=10, num_top_latents=5):\n",
    "    \"\"\"\n",
    "    Create separate plots for the specified number of different latents with highest activations.\n",
    "    \n",
    "    Args:\n",
    "        all_sae_acts: List of numpy arrays, each containing SAE activations for one forward pass\n",
    "        num_last_passes: Number of last passes to analyze (default: 10)\n",
    "        num_top_latents: Number of top unique latents to plot (default: 5)\n",
    "    \"\"\"\n",
    "    import plotly.graph_objects as go\n",
    "    import numpy as np\n",
    "    \n",
    "    # Take only the last N passes\n",
    "    last_n_passes = all_sae_acts[-num_last_passes:]\n",
    "    total_passes = len(all_sae_acts)\n",
    "    start_pass_idx = total_passes - num_last_passes\n",
    "    \n",
    "    # Calculate average absolute activation for each latent\n",
    "    latent_activations = []\n",
    "    num_latents = len(last_n_passes[0])\n",
    "    \n",
    "    for latent_idx in range(num_latents):\n",
    "        avg_activation = np.mean([abs(pass_acts[latent_idx]) for pass_acts in last_n_passes])\n",
    "        latent_activations.append((latent_idx, avg_activation))\n",
    "    \n",
    "    # Get top N unique latents by average absolute activation\n",
    "    top_n_indices = [idx for idx, _ in sorted(latent_activations, \n",
    "                                            key=lambda x: x[1], \n",
    "                                            reverse=True)[:num_top_latents]]\n",
    "    \n",
    "    # Create a separate plot for each top latent\n",
    "    for latent_idx in top_n_indices:\n",
    "        fig = go.Figure()\n",
    "        \n",
    "        # Get values for this latent across all passes\n",
    "        values = [pass_acts[latent_idx] for pass_acts in last_n_passes]\n",
    "        \n",
    "        # Add bar plot\n",
    "        fig.add_trace(go.Bar(\n",
    "            x=[f\"Pass {i}\" for i in range(start_pass_idx, total_passes)],\n",
    "            y=values,\n",
    "            name=f\"Latent {latent_idx}\",\n",
    "            marker_color='#1f77b4'\n",
    "        ))\n",
    "        \n",
    "        # Update layout\n",
    "        fig.update_layout(\n",
    "            title=f\"Activation Values for Latent {latent_idx} (Last {num_last_passes} Passes)\",\n",
    "            xaxis_title=\"Forward Pass\",\n",
    "            yaxis_title=\"Activation Value\",\n",
    "            width=800,\n",
    "            height=400,\n",
    "            showlegend=False,\n",
    "            xaxis=dict(\n",
    "                tickangle=45,\n",
    "                type='category'\n",
    "            )\n",
    "        )\n",
    "        \n",
    "        # Show the plot\n",
    "        fig.show()\n",
    "    \n",
    "    # Print summary of top N latents\n",
    "    print(f\"\\nSummary of top {num_top_latents} unique latents across last {num_last_passes} passes:\")\n",
    "    for latent_idx in top_n_indices:\n",
    "        values = [pass_acts[latent_idx] for pass_acts in last_n_passes]\n",
    "        avg_activation = np.mean([abs(v) for v in values])\n",
    "        print(f\"\\nLatent {latent_idx}:\")\n",
    "        print(f\"Average absolute activation: {avg_activation:.2f}\")\n",
    "        print(f\"Range: {min(values):.2f} to {max(values):.2f}\")"
   ]
  },
  {
   "cell_type": "code",
   "execution_count": 22,
   "metadata": {},
   "outputs": [
    {
     "data": {
      "text/plain": [
       "'plot_top_x_unique_latents(all_sae_acts, m_n_tkns, 10)'"
      ]
     },
     "execution_count": 22,
     "metadata": {},
     "output_type": "execute_result"
    }
   ],
   "source": [
    "\"\"\"plot_top_x_unique_latents(all_sae_acts, m_n_tkns, 10)\"\"\""
   ]
  },
  {
   "cell_type": "code",
   "execution_count": 23,
   "metadata": {},
   "outputs": [
    {
     "data": {
      "text/plain": [
       "'\\n    import plotly.graph_objects as go\\n    import numpy as np\\n    \\n    # Define colors for different layers\\n    layer_colors = {\\n        \\'layer9\\': \\'#1f77b4\\',  # blue\\n        \\'layer20\\': \\'#2ca02c\\',  # green\\n        \\'layer31\\': \\'#ff7f0e\\'   # orange\\n    }\\n    \\n    # Process each layer\\'s activations\\n    for layer_name, all_sae_acts in all_sae_acts_dict.items():\\n        # Take only the last N passes\\n        last_n_passes = all_sae_acts[-num_last_passes:]\\n        total_passes = len(all_sae_acts)\\n        start_pass_idx = total_passes - num_last_passes\\n        \\n        # Calculate average absolute activation for each latent\\n        latent_activations = []\\n        num_latents = len(last_n_passes[0])\\n        \\n        for latent_idx in range(num_latents):\\n            avg_activation = np.mean([abs(pass_acts[latent_idx]) for pass_acts in last_n_passes])\\n            latent_activations.append((latent_idx, avg_activation))\\n        \\n        # Get top N unique latents by average absolute activation\\n        top_n_indices = [idx for idx, _ in sorted(latent_activations, \\n                                                key=lambda x: x[1], \\n                                                reverse=True)[:num_top_latents]]\\n        \\n        # Create a separate plot for each top latent\\n        for latent_idx in top_n_indices:\\n            fig = go.Figure()\\n            \\n            # Get values for this latent across all passes\\n            values = [pass_acts[latent_idx] for pass_acts in last_n_passes]\\n            \\n            # Add bar plot with layer-specific color\\n            fig.add_trace(go.Bar(\\n                x=[f\"Pass {i}\" for i in range(start_pass_idx, total_passes)],\\n                y=values,\\n                name=f\"Latent {latent_idx}\",\\n                marker_color=layer_colors[layer_name]\\n            ))\\n            \\n            # Update layout\\n            fig.update_layout(\\n                title=f\"Activation Values for {layer_name} Latent {latent_idx} (Last {num_last_passes} Passes)\",\\n                xaxis_title=\"Forward Pass\",\\n                yaxis_title=\"Activation Value\",\\n                width=800,\\n                height=400,\\n                showlegend=False,\\n                xaxis=dict(\\n                    tickangle=45,\\n                    type=\\'category\\'\\n                )\\n            )\\n            \\n            # Show the plot\\n            fig.show()\\n        \\n        # Print summary of top N latents for this layer\\n        print(f\"\\nSummary of top {num_top_latents} unique latents for {layer_name} across last {num_last_passes} passes:\")\\n        for latent_idx in top_n_indices:\\n            values = [pass_acts[latent_idx] for pass_acts in last_n_passes]\\n            avg_activation = np.mean([abs(v) for v in values])\\n            print(f\"\\nLatent {latent_idx}:\")\\n            print(f\"Average absolute activation: {avg_activation:.2f}\")\\n            print(f\"Range: {min(values):.2f} to {max(values):.2f}\")\\n#TODO: All this is hardcoded for the specific layers implemented. Could make dynamic, with the settings selector at the beginning of the notebook. WOuld be better for later eval to write down the layer names into the jsonl, as well\\n# Create dictionary of activations from different layers\\nall_acts_dict = {\\n    \\'layer9\\': layer9_sae_acts,\\n    \\'layer20\\': layer20_sae_acts,\\n    \\'layer31\\': layer31_sae_acts\\n}\\n\\n# Plot with different colors for each layer\\nplot_top_x_unique_latents(all_acts_dict, num_last_passes=m_n_tkns, num_top_latents=10)'"
      ]
     },
     "execution_count": 23,
     "metadata": {},
     "output_type": "execute_result"
    }
   ],
   "source": [
    "# Version 2.0: Show different colours depending on the hookpoint that the logit is from\n",
    "# not yet tested (24.01.2025 addition)\n",
    "\"\"\"def plot_top_x_unique_latents(all_sae_acts_dict, num_last_passes=10, num_top_latents=5):\n",
    "    \"\"\"\n",
    "    #Create separate plots for the specified number of different latents with highest activations.\n",
    "    \n",
    "    #Args:\n",
    "    #    all_sae_acts_dict: Dictionary with keys as layer names and values as lists of SAE activations\n",
    "    #    num_last_passes: Number of last passes to analyze (default: 10)\n",
    "    #    num_top_latents: Number of top unique latents to plot (default: 5)\n",
    "\"\"\"\n",
    "    import plotly.graph_objects as go\n",
    "    import numpy as np\n",
    "    \n",
    "    # Define colors for different layers\n",
    "    layer_colors = {\n",
    "        'layer9': '#1f77b4',  # blue\n",
    "        'layer20': '#2ca02c',  # green\n",
    "        'layer31': '#ff7f0e'   # orange\n",
    "    }\n",
    "    \n",
    "    # Process each layer's activations\n",
    "    for layer_name, all_sae_acts in all_sae_acts_dict.items():\n",
    "        # Take only the last N passes\n",
    "        last_n_passes = all_sae_acts[-num_last_passes:]\n",
    "        total_passes = len(all_sae_acts)\n",
    "        start_pass_idx = total_passes - num_last_passes\n",
    "        \n",
    "        # Calculate average absolute activation for each latent\n",
    "        latent_activations = []\n",
    "        num_latents = len(last_n_passes[0])\n",
    "        \n",
    "        for latent_idx in range(num_latents):\n",
    "            avg_activation = np.mean([abs(pass_acts[latent_idx]) for pass_acts in last_n_passes])\n",
    "            latent_activations.append((latent_idx, avg_activation))\n",
    "        \n",
    "        # Get top N unique latents by average absolute activation\n",
    "        top_n_indices = [idx for idx, _ in sorted(latent_activations, \n",
    "                                                key=lambda x: x[1], \n",
    "                                                reverse=True)[:num_top_latents]]\n",
    "        \n",
    "        # Create a separate plot for each top latent\n",
    "        for latent_idx in top_n_indices:\n",
    "            fig = go.Figure()\n",
    "            \n",
    "            # Get values for this latent across all passes\n",
    "            values = [pass_acts[latent_idx] for pass_acts in last_n_passes]\n",
    "            \n",
    "            # Add bar plot with layer-specific color\n",
    "            fig.add_trace(go.Bar(\n",
    "                x=[f\"Pass {i}\" for i in range(start_pass_idx, total_passes)],\n",
    "                y=values,\n",
    "                name=f\"Latent {latent_idx}\",\n",
    "                marker_color=layer_colors[layer_name]\n",
    "            ))\n",
    "            \n",
    "            # Update layout\n",
    "            fig.update_layout(\n",
    "                title=f\"Activation Values for {layer_name} Latent {latent_idx} (Last {num_last_passes} Passes)\",\n",
    "                xaxis_title=\"Forward Pass\",\n",
    "                yaxis_title=\"Activation Value\",\n",
    "                width=800,\n",
    "                height=400,\n",
    "                showlegend=False,\n",
    "                xaxis=dict(\n",
    "                    tickangle=45,\n",
    "                    type='category'\n",
    "                )\n",
    "            )\n",
    "            \n",
    "            # Show the plot\n",
    "            fig.show()\n",
    "        \n",
    "        # Print summary of top N latents for this layer\n",
    "        print(f\"\\nSummary of top {num_top_latents} unique latents for {layer_name} across last {num_last_passes} passes:\")\n",
    "        for latent_idx in top_n_indices:\n",
    "            values = [pass_acts[latent_idx] for pass_acts in last_n_passes]\n",
    "            avg_activation = np.mean([abs(v) for v in values])\n",
    "            print(f\"\\nLatent {latent_idx}:\")\n",
    "            print(f\"Average absolute activation: {avg_activation:.2f}\")\n",
    "            print(f\"Range: {min(values):.2f} to {max(values):.2f}\")\n",
    "#TODO: All this is hardcoded for the specific layers implemented. Could make dynamic, with the settings selector at the beginning of the notebook. WOuld be better for later eval to write down the layer names into the jsonl, as well\n",
    "# Create dictionary of activations from different layers\n",
    "all_acts_dict = {\n",
    "    'layer9': layer9_sae_acts,\n",
    "    'layer20': layer20_sae_acts,\n",
    "    'layer31': layer31_sae_acts\n",
    "}\n",
    "\n",
    "# Plot with different colors for each layer\n",
    "plot_top_x_unique_latents(all_acts_dict, num_last_passes=m_n_tkns, num_top_latents=10)\"\"\""
   ]
  },
  {
   "cell_type": "markdown",
   "metadata": {},
   "source": [
    "# Run Through Dataset with a loop"
   ]
  },
  {
   "cell_type": "markdown",
   "metadata": {},
   "source": [
    "## turn the dataset into a pd "
   ]
  },
  {
   "cell_type": "code",
   "execution_count": 24,
   "metadata": {
    "tags": [
     "parameters"
    ]
   },
   "outputs": [],
   "source": [
    "### DATASET LOOP SETUP\n",
    "max_queries=5\n",
    "num_steered_examples = 2 # num steered examples for each query\n",
    "\n"
   ]
  },
  {
   "cell_type": "code",
   "execution_count": 25,
   "metadata": {
    "tags": [
     "parameters"
    ]
   },
   "outputs": [],
   "source": [
    "# Load the HOTPOTQA evaluation data and extract relevant columns\n",
    "hotpotqa_df = pd.read_csv(\"GIT_HowIsChatGPTChanging/LLMDrift/generation/HOTPOTQA_EVAL.csv\") ## HotPotQA is supposed to be a dataset for testing LLMs, \n",
    "# specifically for testing the reasoning steps. https://arxiv.org/pdf/2312.04511#:~:text=Scott%20Derrickson%20(born%20July%2016,1966)%20is%20an%20American%20filmmaker%20%E2%80%A6&text=Search%20Tool-,Observation%3A%20%E2%80%A6,American%20filmmaker%2C%20actor%2C%20and%20%E2%80%A6\n",
    "medical_exam_df = pd.read_csv(\"GIT_HowIsChatGPTChanging/LLMDrift/generation/USMLE_EVAL.csv\")\n",
    "HP_starting_query_index:int = 77\n",
    "USM_starting_query_index:int = 77\n",
    "test_data_HP = hotpotqa_df[['query', 'ref_answer']].iloc[HP_starting_query_index:HP_starting_query_index+max_queries].copy() \n",
    "test_data_USM = medical_exam_df[['query', 'ref_answer']].iloc[USM_starting_query_index:USM_starting_query_index+max_queries].copy() #! don't forget to update the starting query and max query values before a new run!"
   ]
  },
  {
   "cell_type": "code",
   "execution_count": 26,
   "metadata": {},
   "outputs": [
    {
     "name": "stdout",
     "output_type": "stream",
     "text": [
      "You are an expert in medical exams. To answer the following medical question, think step by step and then generate \"The answer is (X)\" (where X is the option).\n",
      "\n",
      "Q: A previously healthy 29-year-old woman is admitted to the hospital because of a 1-day history of moderate headache, fever, and lethargy. Two days ago, she underwent wisdom tooth extraction. She takes no medications. She cannot remember her vaccination history. She does not smoke cigarettes, drink alcohol, or use illicit drugs. She is a college student, lives in an apartment complex with other students, and eats all her meals in the campus dining hall. She says her study partner had a “really bad fever” during the past week. The patient appears sleepy. Temperature is 40.0°C (104.0°F), pulse is 140/min, and blood pressure is 90/40 mm Hg. Examination shows a diffuse purpuric rash over the trunk and all extremities. There is nuchal rigidity. Lungs are clear to auscultation. Heart sounds are normal. Neurologic examination shows no other focal findings. Which of the following is most likely to have prevented this patient’s current condition?\n",
      "(B) Avoidance of eating meals in the campus dining hall (C) Consistent hand washing (D) Isolation of other students on campus with febrile illness (E) Prophylactic antibiotic therapy\n",
      "A:\n",
      "Number of unique reference answers in test_data_HP: 5\n",
      "Number of unique reference answers in test_data_USMLE: 5\n"
     ]
    },
    {
     "data": {
      "text/html": [
       "<div>\n",
       "<style scoped>\n",
       "    .dataframe tbody tr th:only-of-type {\n",
       "        vertical-align: middle;\n",
       "    }\n",
       "\n",
       "    .dataframe tbody tr th {\n",
       "        vertical-align: top;\n",
       "    }\n",
       "\n",
       "    .dataframe thead th {\n",
       "        text-align: right;\n",
       "    }\n",
       "</style>\n",
       "<table border=\"1\" class=\"dataframe\">\n",
       "  <thead>\n",
       "    <tr style=\"text-align: right;\">\n",
       "      <th></th>\n",
       "      <th>query</th>\n",
       "      <th>ref_answer</th>\n",
       "    </tr>\n",
       "  </thead>\n",
       "  <tbody>\n",
       "    <tr>\n",
       "      <th>77</th>\n",
       "      <td>Alvaro Mexia had a diplomatic mission with whi...</td>\n",
       "      <td>Apalachees</td>\n",
       "    </tr>\n",
       "    <tr>\n",
       "      <th>78</th>\n",
       "      <td>What nationality were social anthropologists A...</td>\n",
       "      <td>British</td>\n",
       "    </tr>\n",
       "    <tr>\n",
       "      <th>79</th>\n",
       "      <td>In which year was the King who made the 1925 B...</td>\n",
       "      <td>1865</td>\n",
       "    </tr>\n",
       "    <tr>\n",
       "      <th>80</th>\n",
       "      <td>What is the county seat of the county where Ea...</td>\n",
       "      <td>Newport</td>\n",
       "    </tr>\n",
       "    <tr>\n",
       "      <th>81</th>\n",
       "      <td>The Album Against the Wind was the 11th Album ...</td>\n",
       "      <td>Bob Seger</td>\n",
       "    </tr>\n",
       "  </tbody>\n",
       "</table>\n",
       "</div>"
      ],
      "text/plain": [
       "                                                query  ref_answer\n",
       "77  Alvaro Mexia had a diplomatic mission with whi...  Apalachees\n",
       "78  What nationality were social anthropologists A...     British\n",
       "79  In which year was the King who made the 1925 B...        1865\n",
       "80  What is the county seat of the county where Ea...     Newport\n",
       "81  The Album Against the Wind was the 11th Album ...   Bob Seger"
      ]
     },
     "execution_count": 26,
     "metadata": {},
     "output_type": "execute_result"
    }
   ],
   "source": [
    "# DATA LOADER SANITY CHECK \n",
    "print(medical_exam_df['query'].iloc[5])\n",
    "print(f\"Number of unique reference answers in test_data_HP: {test_data_HP['query'].nunique()}\")\n",
    "print(f\"Number of unique reference answers in test_data_USMLE: {test_data_USM['query'].nunique()}\")\n",
    "test_data_HP.head()\n",
    "\n"
   ]
  },
  {
   "cell_type": "markdown",
   "metadata": {},
   "source": [
    "## RUN AND OUTPUT DATA CONFIG"
   ]
  },
  {
   "cell_type": "markdown",
   "metadata": {},
   "source": [
    "! file names in the format:\n",
    "startentry_endentry_datasetabbreviation_steeredfeatureabbreviation.jsonl \n",
    "\n",
    "dataset name: same format!"
   ]
  },
  {
   "cell_type": "code",
   "execution_count": 27,
   "metadata": {},
   "outputs": [],
   "source": [
    "from tqdm.notebook import tqdm"
   ]
  },
  {
   "cell_type": "code",
   "execution_count": 28,
   "metadata": {},
   "outputs": [
    {
     "data": {
      "text/plain": [
       "'77to82Hotpot_negative_v2_fixed'"
      ]
     },
     "execution_count": 28,
     "metadata": {},
     "output_type": "execute_result"
    }
   ],
   "source": [
    "folder_names[2] #! ensure it exists AND is empty (see also folder handling scripts further above, incl auto-check)\n",
    "#max_tokens"
   ]
  },
  {
   "cell_type": "code",
   "execution_count": 29,
   "metadata": {},
   "outputs": [
    {
     "data": {
      "application/vnd.jupyter.widget-view+json": {
       "model_id": "5a2dd47b6e4e4c9399e929d3cfc5124f",
       "version_major": 2,
       "version_minor": 0
      },
      "text/plain": [
       "Running through eval dataset prompts:   0%|          | 0/5 [00:00<?, ?it/s]"
      ]
     },
     "metadata": {},
     "output_type": "display_data"
    },
    {
     "data": {
      "application/vnd.jupyter.widget-view+json": {
       "model_id": "de59c7e0b7074fc9a31cd98282bdbfff",
       "version_major": 2,
       "version_minor": 0
      },
      "text/plain": [
       " ⤷ Generating steered examples:   0%|          | 0/3 [00:00<?, ?it/s]"
      ]
     },
     "metadata": {},
     "output_type": "display_data"
    }
   ],
   "source": [
    "_bWriteMetaData = True\n",
    "outer_pbar = tqdm(range(max_queries), desc=\"Running through eval dataset prompts\")\n",
    "inner_pbar = tqdm(total=num_steered_examples+1, desc=\" ⤷ Generating steered examples\", leave=False)  # assuming num_steered_examples=2\n",
    "for i in outer_pbar:\n",
    "    inner_pbar.reset()\n",
    "    inner_pbar.refresh()  # Force refresh display \n",
    "    evaluate_with_steering(\n",
    "        prompt          = test_data_HP.iloc[i]['query'],\n",
    "        prompt_id       = i+HP_starting_query_index, #!MANUAL CHECK: Remember to adapt which index and from which dataset \n",
    "        ref_answer      = test_data_HP.iloc[i]['ref_answer'], \n",
    "        latent_id       = 120550,  #!Remember to adapt\n",
    "        bWriteMetaData  = _bWriteMetaData, \n",
    "        progress_bar    = inner_pbar,  # Pass the progress bar as parameter\n",
    "        num_steered_examples=num_steered_examples,\n",
    "        steering_coeff  = 39, # Note: play around with it...\n",
    "        output_path     = folder_names[2], #!Remember to adapt\n",
    "        dataset_name    = \"77_82HOTPOTQA\", #!Remember to adapt\n",
    "        comment         = \"negat\", #!Remember to adapt\n",
    "        incremental_temperature = True, \n",
    "        max_n_tkns  =  max_tokens,  \n",
    "        )\n",
    "    _bWriteMetaData = False # ensures you only write meta_data.jsonl once, when i==0\"\"\""
   ]
  },
  {
   "cell_type": "markdown",
   "metadata": {},
   "source": [
    "Note: Don't open jsonl files while it's running. Cursor can't handle it & crashes"
   ]
  },
  {
   "cell_type": "code",
   "execution_count": 30,
   "metadata": {},
   "outputs": [
    {
     "data": {
      "text/plain": [
       "77"
      ]
     },
     "execution_count": 30,
     "metadata": {},
     "output_type": "execute_result"
    }
   ],
   "source": [
    "USM_starting_query_index"
   ]
  },
  {
   "cell_type": "code",
   "execution_count": 31,
   "metadata": {},
   "outputs": [
    {
     "data": {
      "text/plain": [
       "['60to75USMLE_pirate_v2_fixed',\n",
       " '77to82USMLE_negative_v2_fixed',\n",
       " '77to82Hotpot_negative_v2_fixed']"
      ]
     },
     "execution_count": 31,
     "metadata": {},
     "output_type": "execute_result"
    }
   ],
   "source": [
    "folder_names"
   ]
  },
  {
   "cell_type": "code",
   "execution_count": 32,
   "metadata": {},
   "outputs": [
    {
     "data": {
      "text/plain": [
       "'_bWriteMetaData = True\\nouter_pbar = tqdm(range(max_queries), desc=\"Running through eval dataset prompts\")\\ninner_pbar = tqdm(total=num_steered_examples+1, desc=\" ⤷ Generating steered examples\", leave=False)  # assuming num_steered_examples=2\\nfor i in outer_pbar:\\n    inner_pbar.reset()\\n    inner_pbar.refresh()  # Force refresh display \\n    evaluate_with_steering(\\n        prompt          = test_data_USM.iloc[i][\\'query\\'],\\n        prompt_id       = i+USM_starting_query_index, #!MANUAL CHECK: Remember to adapt which index and from which dataset \\n        ref_answer      = test_data_USM.iloc[i][\\'ref_answer\\'], \\n        latent_id       = 29917,  #!Remember to adapt\\n        bWriteMetaData  = _bWriteMetaData, \\n        progress_bar    = inner_pbar,  # Pass the progress bar as parameter\\n        num_steered_examples=num_steered_examples,\\n        steering_coeff  = 150, # Note: play around with it...\\n        output_path     = folder_names[0], #!Remember to adapt\\n        dataset_name    = \"0_60USMLE\", #!Remember to adapt\\n        comment         = \"pirate\", #!Remember to adapt\\n        incremental_temperature = True, \\n        max_n_tkns  =  max_tokens,  \\n    )\\n    _bWriteMetaData = False # ensures you only write meta_data.jsonl once, when i==0'"
      ]
     },
     "execution_count": 32,
     "metadata": {},
     "output_type": "execute_result"
    }
   ],
   "source": [
    "\"\"\"_bWriteMetaData = True\n",
    "outer_pbar = tqdm(range(max_queries), desc=\"Running through eval dataset prompts\")\n",
    "inner_pbar = tqdm(total=num_steered_examples+1, desc=\" ⤷ Generating steered examples\", leave=False)  # assuming num_steered_examples=2\n",
    "for i in outer_pbar:\n",
    "    inner_pbar.reset()\n",
    "    inner_pbar.refresh()  # Force refresh display \n",
    "    evaluate_with_steering(\n",
    "        prompt          = test_data_USM.iloc[i]['query'],\n",
    "        prompt_id       = i+USM_starting_query_index, #!MANUAL CHECK: Remember to adapt which index and from which dataset \n",
    "        ref_answer      = test_data_USM.iloc[i]['ref_answer'], \n",
    "        latent_id       = 29917,  #!Remember to adapt\n",
    "        bWriteMetaData  = _bWriteMetaData, \n",
    "        progress_bar    = inner_pbar,  # Pass the progress bar as parameter\n",
    "        num_steered_examples=num_steered_examples,\n",
    "        steering_coeff  = 150, # Note: play around with it...\n",
    "        output_path     = folder_names[0], #!Remember to adapt\n",
    "        dataset_name    = \"0_60USMLE\", #!Remember to adapt\n",
    "        comment         = \"pirate\", #!Remember to adapt\n",
    "        incremental_temperature = True, \n",
    "        max_n_tkns  =  max_tokens,  \n",
    "    )\n",
    "    _bWriteMetaData = False # ensures you only write meta_data.jsonl once, when i==0\"\"\""
   ]
  },
  {
   "cell_type": "code",
   "execution_count": 33,
   "metadata": {},
   "outputs": [
    {
     "data": {
      "application/vnd.jupyter.widget-view+json": {
       "model_id": "0fe17b4b731a417582bf182b971de8fa",
       "version_major": 2,
       "version_minor": 0
      },
      "text/plain": [
       "Running through eval dataset prompts:   0%|          | 0/5 [00:00<?, ?it/s]"
      ]
     },
     "metadata": {},
     "output_type": "display_data"
    },
    {
     "data": {
      "application/vnd.jupyter.widget-view+json": {
       "model_id": "fe5400c82a384ca09e63034cb6c80dea",
       "version_major": 2,
       "version_minor": 0
      },
      "text/plain": [
       " ⤷ Generating steered examples:   0%|          | 0/3 [00:00<?, ?it/s]"
      ]
     },
     "metadata": {},
     "output_type": "display_data"
    }
   ],
   "source": [
    "_bWriteMetaData = True\n",
    "outer_pbar = tqdm(range(max_queries), desc=\"Running through eval dataset prompts\")\n",
    "inner_pbar = tqdm(total=num_steered_examples+1, desc=\" ⤷ Generating steered examples\", leave=False)  # assuming num_steered_examples=2\n",
    "for i in outer_pbar:\n",
    "    inner_pbar.reset()\n",
    "    inner_pbar.refresh()  # Force refresh display \n",
    "    evaluate_with_steering(\n",
    "        prompt          = test_data_USM.iloc[i]['query'],\n",
    "        prompt_id       = i+USM_starting_query_index, #!MANUAL CHECK: Remember to adapt which index and from which dataset \n",
    "        ref_answer      = test_data_USM.iloc[i]['ref_answer'], \n",
    "        latent_id       = 120550, #120550: Negative or distressing    #!Remember to adapt\n",
    "        bWriteMetaData  = _bWriteMetaData, \n",
    "        progress_bar    = inner_pbar,  # Pass the progress bar as parameter\n",
    "        num_steered_examples=num_steered_examples,\n",
    "        steering_coeff  = 50, # Note: play around with it... #!manual adaption\n",
    "        output_path     = folder_names[1], #!Remember to adapt\n",
    "        dataset_name    = \"77_82USMLE\", #!Remember to adapt\n",
    "        comment         = \"negative or distressing. Playing w steering coeff\", #!Remember to adapt\n",
    "        incremental_temperature = True, \n",
    "        max_n_tkns  =  max_tokens,  \n",
    "    )\n",
    "    _bWriteMetaData = False # ensures you only write meta_data.jsonl once, when i==0"
   ]
  },
  {
   "attachments": {
    "image-2.png": {
     "image/png": "[encoded data removed]"
    },
    "image.png": {
     "image/png": "[encoded data removed]"
    }
   },
   "cell_type": "markdown",
   "metadata": {},
   "source": [
    "V1: 90 queries, 1300 tokens max, 2 steering examples and 1 unsteered take 460minutes (RTX3070)\n",
    "\n",
    "V2: 60 queries, 1300 tokens max, 2 steering examples and 1 unsteered take...... !TODO\n",
    "![image.png](attachment:image.png)\n",
    "\n",
    "USMLE with 1300max tokens takes substantially longer: \n",
    "![image-2.png](attachment:image-2.png)\n",
    "\n",
    "Stopped it..\n",
    "![image-3.png](attachment:image-3.png)"
   ]
  },
  {
   "cell_type": "markdown",
   "metadata": {},
   "source": [
    "# Log / Diary of Runs with V2_looped:\n",
    "cancelled run V2 and made new run: V2_Fixed because the steering coeff was permanently set to 1. \n",
    "The results may still be slightly interesting, SHOULD the steered answer 2 be wrong in some cases, due to the temperature and mostly the **FREQUENCY PENALTY** setting. \n",
    "I guess this was a good experiment to see the effect of that setting.\n",
    "Reduced it substantially for the v2_fixed run and reduced amount of prompts because it took almost 2 days to run."
   ]
  },
  {
   "attachments": {
    "image.png": {
     "image/png": "[encoded data removed]"
    }
   },
   "cell_type": "markdown",
   "metadata": {},
   "source": [
    "2h27 for hotpot.\n",
    "\n",
    "usmle pirate:\n",
    "\n",
    "![image.png](attachment:image.png)\n",
    "\n",
    "usmle negative:\n",
    "\n",
    "--> however, steering coefficient was way too high. Answers are super long and nonsensical. Wouldn't have happened with a better chosen coefficient, it was just always using all 1300 Tokens."
   ]
  },
  {
   "attachments": {
    "image.png": {
     "image/png": "[encoded data removed]"
    }
   },
   "cell_type": "markdown",
   "metadata": {},
   "source": [
    "![image.png](attachment:image.png)"
   ]
  }
 ],
 "metadata": {
  "kernelspec": {
   "display_name": "lets_drift_env_V1",
   "language": "python",
   "name": "python3"
  },
  "language_info": {
   "codemirror_mode": {
    "name": "ipython",
    "version": 3
   },
   "file_extension": ".py",
   "mimetype": "text/x-python",
   "name": "python",
   "nbconvert_exporter": "python",
   "pygments_lexer": "ipython3",
   "version": "3.11.10"
  }
 },
 "nbformat": 4,
 "nbformat_minor": 2
}
